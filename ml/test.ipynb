{
 "cells": [
  {
   "cell_type": "code",
   "execution_count": 2,
   "id": "0d17b00b-c383-4d5f-b848-026e3d5fc702",
   "metadata": {},
   "outputs": [],
   "source": [
    "from math import log2"
   ]
  },
  {
   "cell_type": "code",
   "execution_count": 67,
   "id": "48779991-4aaf-4e7c-b0af-521f276ce6d5",
   "metadata": {},
   "outputs": [],
   "source": [
    "class DecisionTree():\n",
    "    def __init__(self, criteria=\"cross-entropy\", max_depth=50, min_samples_split=5, eps = 1e-5):\n",
    "        self.criteria = criteria\n",
    "        self.max_depth = max_depth\n",
    "        self.min_samples_split = min_samples_split\n",
    "        self.root = None\n",
    "        self.eps = eps\n",
    "    def fit(self, X, y):\n",
    "         pass\n",
    "    def predict(self):\n",
    "        pass\n",
    "    def cross_entropy(self, y, label):\n",
    "        return -(sum([yi*log2(label+self.eps)+(1-yi)*log2(1-label+self.eps) for yi in y]))/len(y)"
   ]
  },
  {
   "cell_type": "code",
   "execution_count": null,
   "id": "8b7f6ab9-f921-4a5f-a560-bff721aac703",
   "metadata": {},
   "outputs": [],
   "source": []
  }
 ],
 "metadata": {
  "kernelspec": {
   "display_name": "Python 3 (ipykernel)",
   "language": "python",
   "name": "python3"
  },
  "language_info": {
   "codemirror_mode": {
    "name": "ipython",
    "version": 3
   },
   "file_extension": ".py",
   "mimetype": "text/x-python",
   "name": "python",
   "nbconvert_exporter": "python",
   "pygments_lexer": "ipython3",
   "version": "3.12.2"
  }
 },
 "nbformat": 4,
 "nbformat_minor": 5
}
